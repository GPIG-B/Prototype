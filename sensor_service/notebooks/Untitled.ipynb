{
 "cells": [
  {
   "cell_type": "code",
   "execution_count": 1,
   "id": "d70246d1-195b-448a-bff8-373ec4b3d053",
   "metadata": {},
   "outputs": [
    {
     "data": {
      "text/plain": [
       "'1.4.2'"
      ]
     },
     "execution_count": 1,
     "metadata": {},
     "output_type": "execute_result"
    }
   ],
   "source": [
    "from pathlib import Path\n",
    "import sys\n",
    "sys.path.append('..')\n",
    "sys.path.append('../../datagen/')\n",
    "\n",
    "import random\n",
    "import pandas as pd\n",
    "import numpy as np\n",
    "import matplotlib.pyplot as plt\n",
    "\n",
    "import sensor_service as ss\n",
    "import datagen as dg\n",
    "\n",
    "plt.rcParams['figure.dpi'] = 200\n",
    "plt.rcParams.update({'font.size': 22})\n",
    "random.seed(0)\n",
    "\n",
    "pd.__version__"
   ]
  },
  {
   "cell_type": "code",
   "execution_count": 2,
   "id": "240c3473-31b9-44de-af8a-dd6b938e2a1b",
   "metadata": {},
   "outputs": [],
   "source": [
    "cfg = dg.config.Config.from_yaml(Path('../../configs/datagen.yaml'))\n",
    "env = dg.types.Environment.from_config(cfg)\n",
    "wts = dg.types.wind_turbines_from_config(env, Path('../../configs/map.yaml'))\n",
    "sim = dg.types.Simulation(cfg, wts, env)\n",
    "_ = sim.tick(100)"
   ]
  },
  {
   "cell_type": "code",
   "execution_count": null,
   "id": "d4d6ccf6-5fa3-4ce7-b76b-a61efd74f67d",
   "metadata": {},
   "outputs": [],
   "source": [
    "readings = []\n",
    "sim.loop(readings.append, 1000, no_wait=True)"
   ]
  },
  {
   "cell_type": "code",
   "execution_count": null,
   "id": "2415181e-4728-454a-9dad-30ffd551fedb",
   "metadata": {},
   "outputs": [],
   "source": [
    "wtss = [{**wt, 'ticks': r['ticks']}\n",
    "        for r in readings\n",
    "        for wt in r['wts']]\n",
    "df = pd.DataFrame(wtss)"
   ]
  }
 ],
 "metadata": {
  "kernelspec": {
   "display_name": "Python 3 (ipykernel)",
   "language": "python",
   "name": "python3"
  },
  "language_info": {
   "codemirror_mode": {
    "name": "ipython",
    "version": 3
   },
   "file_extension": ".py",
   "mimetype": "text/x-python",
   "name": "python",
   "nbconvert_exporter": "python",
   "pygments_lexer": "ipython3",
   "version": "3.8.10"
  }
 },
 "nbformat": 4,
 "nbformat_minor": 5
}
