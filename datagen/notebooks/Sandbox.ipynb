{
 "cells": [
  {
   "cell_type": "code",
   "execution_count": 1,
   "id": "74647094-5ddf-4baf-bb90-a1c0f0283017",
   "metadata": {},
   "outputs": [
    {
     "name": "stderr",
     "output_type": "stream",
     "text": [
      "\n",
      "KeyboardInterrupt\n",
      "\n"
     ]
    }
   ],
   "source": [
    "import sys; sys.path.append('..')\n",
    "import matplotlib.pyplot as plt\n",
    "import random\n",
    "import math\n",
    "from itertools import islice\n",
    "\n",
    "import datagen as dg\n",
    "\n",
    "random.seed(0)"
   ]
  },
  {
   "cell_type": "code",
   "execution_count": null,
   "id": "fdd00683-98f6-449d-ae21-5cd430b3eb64",
   "metadata": {},
   "outputs": [],
   "source": [
    "cfg = dg.config.Config()\n",
    "env = dg.types.Environment.from_config(cfg)\n",
    "wts = [dg.types.WindTurbine.from_env(env)\n",
    "       for _ in range(3)]\n",
    "sim = dg.types.Simulation(cfg, wts, env).tick(10)"
   ]
  },
  {
   "cell_type": "code",
   "execution_count": null,
   "id": "d5ded60a-f824-4cc1-99de-6733f6b079b5",
   "metadata": {},
   "outputs": [],
   "source": [
    "%%time\n",
    "N = int(0.1 * 365 * 24 * 60 * 60 / cfg.tick_freq)\n",
    "\n",
    "readings = [sim.tick().get_readings() for _ in range(N)]\n",
    "plt.figure(figsize=(32, 8))\n",
    "plt.plot([d['env_temp'] for d in readings])\n",
    "plt.ylim(0, 20)\n",
    "plt.show()"
   ]
  },
  {
   "cell_type": "code",
   "execution_count": null,
   "id": "0852f990-880d-40b9-885b-858ad4491f66",
   "metadata": {},
   "outputs": [],
   "source": [
    "N = int(2 * 24 * 60 * 60 / cfg.tick_freq)\n",
    "readings = [sim.tick().get_readings() for _ in range(N)]\n",
    "\n",
    "plt.figure(figsize=(32, 8))\n",
    "plt.plot([d['env_wind_angle'] for d in readings], label='angle')\n",
    "plt.plot([d['env_wind_mag'] for d in readings], label='magnitude')\n",
    "plt.legend()\n",
    "plt.show()"
   ]
  },
  {
   "cell_type": "code",
   "execution_count": null,
   "id": "263e6b70-41c1-4689-9d97-e991c6e54637",
   "metadata": {},
   "outputs": [],
   "source": [
    "N = int(10 * 24 * 60 * 60 / cfg.tick_freq)\n",
    "readings = [sim.tick().get_readings() for _ in range(N)]\n",
    "\n",
    "plt.figure(figsize=(32, 8))\n",
    "plt.plot([d['wts'][0]['rotor_rps'] for d in readings], label='rotor RPS')\n",
    "plt.plot([d['env_wind_mag'] for d in readings], label='wind magnitude')\n",
    "plt.legend()\n",
    "plt.show()"
   ]
  },
  {
   "cell_type": "code",
   "execution_count": null,
   "id": "4cb6b711-0539-4728-a04c-6f901c91db1b",
   "metadata": {},
   "outputs": [],
   "source": [
    "ac = dg.utils.Autocorr(lambda x: math.sin(x) + random.gauss(0., 0.5), alpha=0.5, beta=10, increment=2 * math.pi / 100)\n",
    "xs = list(islice(ac, 0, 1000))\n",
    "plt.plot(xs)\n",
    "plt.ylim(1.5, -1.5)\n",
    "plt.show()"
   ]
  }
 ],
 "metadata": {
  "kernelspec": {
   "display_name": "Python 3 (ipykernel)",
   "language": "python",
   "name": "python3"
  },
  "language_info": {
   "codemirror_mode": {
    "name": "ipython",
    "version": 3
   },
   "file_extension": ".py",
   "mimetype": "text/x-python",
   "name": "python",
   "nbconvert_exporter": "python",
   "pygments_lexer": "ipython3",
   "version": "3.8.10"
  }
 },
 "nbformat": 4,
 "nbformat_minor": 5
}
