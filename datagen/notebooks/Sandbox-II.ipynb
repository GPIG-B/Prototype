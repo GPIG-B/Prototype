{
 "cells": [
  {
   "cell_type": "code",
   "execution_count": 1,
   "id": "a3a94561-8983-4e0c-94af-ca6e0733dbb9",
   "metadata": {},
   "outputs": [
    {
     "ename": "SyntaxError",
     "evalue": "invalid syntax (types.py, line 254)",
     "output_type": "error",
     "traceback": [
      "Traceback \u001b[0;36m(most recent call last)\u001b[0m:\n",
      "  File \u001b[1;32m~/.local/lib/python3.8/site-packages/IPython/core/interactiveshell.py:3251\u001b[0m in \u001b[1;35mrun_code\u001b[0m\n    exec(code_obj, self.user_global_ns, self.user_ns)\n",
      "  Input \u001b[1;32mIn [1]\u001b[0m in \u001b[1;35m<module>\u001b[0m\n    import datagen as dg\n",
      "\u001b[0;36m  File \u001b[0;32m~/uni/gpig/prototype/datagen/notebooks/../datagen/__init__.py:2\u001b[0;36m in \u001b[0;35m<module>\u001b[0;36m\u001b[0m\n\u001b[0;31m    from . import types  # noqa: F401\u001b[0m\n",
      "\u001b[0;36m  File \u001b[0;32m~/uni/gpig/prototype/datagen/notebooks/../datagen/types.py:254\u001b[0;36m\u001b[0m\n\u001b[0;31m    def __init__(self) ->\u001b[0m\n\u001b[0m                         ^\u001b[0m\n\u001b[0;31mSyntaxError\u001b[0m\u001b[0;31m:\u001b[0m invalid syntax\n"
     ]
    }
   ],
   "source": [
    "import sys; sys.path.append('..')\n",
    "import numpy as np\n",
    "import matplotlib.pyplot as plt\n",
    "\n",
    "import datagen as dg"
   ]
  },
  {
   "cell_type": "code",
   "execution_count": null,
   "id": "657f6499-63df-4b16-b262-e94b1d3081cc",
   "metadata": {},
   "outputs": [],
   "source": [
    "ys = [dg.utils.smooth_step(x, offset=4.0, width=9.0) for x in np.linspace(0., 25., num=100)]\n",
    "plt.plot(ys)\n",
    "plt.show()"
   ]
  },
  {
   "cell_type": "code",
   "execution_count": null,
   "id": "fb228ad6-592b-4055-b4b6-c2cf7ca41cdc",
   "metadata": {},
   "outputs": [],
   "source": []
  }
 ],
 "metadata": {
  "kernelspec": {
   "display_name": "Python 3 (ipykernel)",
   "language": "python",
   "name": "python3"
  },
  "language_info": {
   "codemirror_mode": {
    "name": "ipython",
    "version": 3
   },
   "file_extension": ".py",
   "mimetype": "text/x-python",
   "name": "python",
   "nbconvert_exporter": "python",
   "pygments_lexer": "ipython3",
   "version": "3.8.10"
  }
 },
 "nbformat": 4,
 "nbformat_minor": 5
}
